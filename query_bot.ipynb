{
  "nbformat": 4,
  "nbformat_minor": 0,
  "metadata": {
    "colab": {
      "provenance": []
    },
    "kernelspec": {
      "name": "python3",
      "display_name": "Python 3"
    },
    "language_info": {
      "name": "python"
    }
  },
  "cells": [
    {
      "cell_type": "markdown",
      "source": [
        "**preparing dataset**"
      ],
      "metadata": {
        "id": "9DOD5ThtpuVp"
      }
    },
    {
      "cell_type": "code",
      "execution_count": null,
      "metadata": {
        "id": "tnGPaM177upX"
      },
      "outputs": [],
      "source": [
        "!gdown 1Mu8xm04jhgIBVGWrSmGZoBHoUwIfPUdt"
      ]
    },
    {
      "cell_type": "code",
      "source": [
        "!unzip vokala_data.zip -d 'sample_data/datasets/'"
      ],
      "metadata": {
        "id": "j2TDKtLN73Xi"
      },
      "execution_count": null,
      "outputs": []
    },
    {
      "cell_type": "code",
      "source": [
        "import pandas as pd\n",
        "import glob\n",
        "\n",
        "input_path = 'sample_data/datasets/'\n",
        "output_path = 'sample_data/datasets/vokala_data.csv'\n",
        "\n",
        "datasets = glob.glob(input_path + '*.csv')\n",
        "\n",
        "data_frames = []\n",
        "\n",
        "for dataset in datasets:\n",
        "    data_frames.append(pd.read_csv(dataset))\n",
        "\n",
        "merged = pd.concat(data_frames)\n",
        "\n",
        "merged.to_csv(output_path, index=False)\n",
        "\n",
        "df = pd.read_csv(output_path, encoding='utf-8') #(32889,6)"
      ],
      "metadata": {
        "id": "3_Gr9iOB78QB"
      },
      "execution_count": null,
      "outputs": []
    },
    {
      "cell_type": "code",
      "source": [
        "import matplotlib.pyplot as plt\n",
        "\n",
        "\n",
        "missing_values = df.isnull().sum()\n",
        "fig, ax = plt.subplots(figsize=(15, 6))\n",
        "missing_values.plot.bar(ax=ax)\n",
        "\n",
        "for i, val in enumerate(missing_values):\n",
        "    ax.text(i, val + 10, str(val), ha='center', fontweight='bold')\n",
        "\n",
        "plt.show()"
      ],
      "metadata": {
        "id": "nR_R15zcrTRP"
      },
      "execution_count": null,
      "outputs": []
    },
    {
      "cell_type": "markdown",
      "source": [
        "**Import essential libraries**"
      ],
      "metadata": {
        "id": "2-StLCHjp2Xs"
      }
    },
    {
      "cell_type": "code",
      "source": [
        "import pandas as pd\n",
        "import glob\n",
        "import json\n",
        "import numpy as np\n",
        "import openai"
      ],
      "metadata": {
        "id": "qZZ5e2gS76kS"
      },
      "execution_count": null,
      "outputs": []
    },
    {
      "cell_type": "markdown",
      "source": [
        "**Preprocessing**"
      ],
      "metadata": {
        "id": "0BXKMV_gqDdh"
      }
    },
    {
      "cell_type": "code",
      "source": [
        "columns = ['_id', 'link','category', 'title']\n",
        "df = df.drop(columns, axis=1)"
      ],
      "metadata": {
        "id": "z2MIBuaF7-LI"
      },
      "execution_count": null,
      "outputs": []
    },
    {
      "cell_type": "code",
      "source": [
        "df['answers'] = df['answers'].str.replace(\"'\", '\\\"')\n",
        "\n",
        "merged_texts = []\n",
        "for x in df['answers']:\n",
        "    try:\n",
        "        texts = [entry['text'] for entry in json.loads(x)]\n",
        "        merged_texts.append('\\n'.join(texts))\n",
        "    except Exception as e:\n",
        "        merged_texts.append(x)\n",
        "\n",
        "df['cleaned_answers'] = merged_texts"
      ],
      "metadata": {
        "id": "Ect74NC18By1"
      },
      "execution_count": null,
      "outputs": []
    },
    {
      "cell_type": "code",
      "source": [
        "df = df.drop('answers', axis=1)"
      ],
      "metadata": {
        "id": "p1kQsCbQ8Dc1"
      },
      "execution_count": null,
      "outputs": []
    },
    {
      "cell_type": "markdown",
      "source": [
        "**Embedding**"
      ],
      "metadata": {
        "id": "qRr2-En2qG3m"
      }
    },
    {
      "cell_type": "code",
      "source": [
        "!pip install sentence-transformers"
      ],
      "metadata": {
        "id": "Ro3lZSIMTWku"
      },
      "execution_count": null,
      "outputs": []
    },
    {
      "cell_type": "code",
      "source": [
        "from sentence_transformers import CrossEncoder\n",
        "\n",
        "model1 = CrossEncoder('cross-encoder/stsb-roberta-base')\n",
        "\n",
        "model2 = CrossEncoder('pedramyazdipoor/persian_xlm_roberta_large')"
      ],
      "metadata": {
        "id": "_iBVvbiGdbx7"
      },
      "execution_count": null,
      "outputs": []
    },
    {
      "cell_type": "code",
      "source": [
        "question = 'بعد از فوت یکی از والدین اموال چگونه تقسیم می شود؟'\n",
        "\n",
        "sentence_pairs = []\n",
        "for sentence1, sentence2 in zip(question, df['question']):\n",
        "    sentence_pairs.append([sentence1, sentence2])\n",
        "\n",
        "df['q-similatiry'] = model2.predict(sentence_pairs, show_progress_bar=True)"
      ],
      "metadata": {
        "id": "xoGaV2IUZuHi"
      },
      "execution_count": null,
      "outputs": []
    },
    {
      "cell_type": "code",
      "source": [
        "sorted_df = df.sort_values(by='q-similatiry', ascending=False)"
      ],
      "metadata": {
        "id": "u65mnnTjBUhu"
      },
      "execution_count": null,
      "outputs": []
    },
    {
      "cell_type": "code",
      "source": [
        "top_10_questions = sorted_df.head(10)['question']\n",
        "top_10_answers = sorted_df.head(10)['cleaned_answers']"
      ],
      "metadata": {
        "id": "IrooUZLTEl4u"
      },
      "execution_count": null,
      "outputs": []
    },
    {
      "cell_type": "markdown",
      "source": [
        "**Ask ChatGPT**"
      ],
      "metadata": {
        "id": "qssDTLBHqJru"
      }
    },
    {
      "cell_type": "code",
      "source": [
        "API_KEY = 'REPLACE IT WITH YOUR OWN API KEY'\n",
        "MODEL = 'gpt-3.5-turbo'\n",
        "\n",
        "question = 'بعد از فوت یکی از والدین اموال چگونه تقسیم می شود؟'\n",
        "\n",
        "answers_to_string = top_10_answers.to_string(index=False)\n",
        "\n",
        "pre_message = \"Use the content below to answer the following question and if you don't find a relevant answer, reply : پاسخ مرتبطی پیدا نشد!.\"\n",
        "user_question = f\"\\nQuestion : {question}\"\n",
        "relevant_answers = f\"\\ncontent : {answers_to_string}\"\n",
        "\n",
        "query = pre_message + user_question + relevant_answers\n",
        "\n",
        "def ask_question(question):\n",
        "    openai.api_key = API_KEY\n",
        "\n",
        "    messages = [\n",
        "        {\"role\": \"user\", \"content\": question}\n",
        "    ]\n",
        "\n",
        "    response = openai.ChatCompletion.create(\n",
        "        model=MODEL,\n",
        "        messages=messages,\n",
        "        temperature=0\n",
        "    )\n",
        "\n",
        "    if 'choices' in response and len(response['choices']) > 0:\n",
        "        return response['choices'][0]['message']['content']\n",
        "    else:\n",
        "        print('Error:', response)\n",
        "        return None\n",
        "\n",
        "response = ask_question(query)\n",
        "print(response)\n"
      ],
      "metadata": {
        "id": "IJKZiRTKHChs"
      },
      "execution_count": null,
      "outputs": []
    }
  ]
}